{
  "nbformat": 4,
  "nbformat_minor": 0,
  "metadata": {
    "colab": {
      "provenance": [],
      "authorship_tag": "ABX9TyNmW90teSqxhsZhI+5g52D3",
      "include_colab_link": true
    },
    "kernelspec": {
      "name": "python3",
      "display_name": "Python 3"
    },
    "language_info": {
      "name": "python"
    }
  },
  "cells": [
    {
      "cell_type": "markdown",
      "metadata": {
        "id": "view-in-github",
        "colab_type": "text"
      },
      "source": [
        "<a href=\"https://colab.research.google.com/github/actggg/-/blob/temp/Untitled8.ipynb\" target=\"_parent\"><img src=\"https://colab.research.google.com/assets/colab-badge.svg\" alt=\"Open In Colab\"/></a>"
      ]
    },
    {
      "cell_type": "markdown",
      "source": [
        "\n",
        "Текстовая ячейка <undefined>\n",
        "# %% [markdown]\n",
        "Скачайте датасет из материалов к уроку или по ссылке https://raw.githubusercontent.com/jupiterzhuo/travel-insurance/master/travel%20insurance.csv\n",
        "\n",
        "\n",
        "Описание признаков:\n",
        "\n",
        "* Agency — название страхового агентства\n",
        "* Agency Type — тип страхового агентства\n",
        "* Distribution Channel — канал продвижения страхового агентства\n",
        "* Product Name — название страхового продукта\n",
        "* Duration — длительность поездки (количество дней)\n",
        "* Destination — направление поездки\n",
        "* Net Sales — сумма продаж\n",
        "* Commission (in value) — комиссия страхового агентства\n",
        "* Gender — пол застрахованного\n",
        "* Age — возраст застрахованного\n",
        "\n",
        "Ответ:\n",
        "* Claim — потребовалась ли страховая выплата: «да» — 1, «нет» — 0\n",
        "\n",
        "Текстовая ячейка <undefined>\n",
        "# %% [markdown]\n",
        "Обработайте пропущенные значения и примените написанные функции onehot_encode() и minmax_scale().\n",
        "\n",
        "**Подсказка**: маску для категориальных признаков можно сделать фильтром cat_features_mask = (df.dtypes == \"object\").values\n",
        "\n",
        "Кодовая ячейка <undefined>"
      ],
      "metadata": {
        "id": "A34ZQL124A9Z"
      }
    },
    {
      "cell_type": "code",
      "source": [
        "import numpy as np\n",
        "import pandas as pd\n",
        "from sklearn.model_selection import train_test_split\n",
        "from sklearn.neighbors import KNeighborsClassifier\n",
        "from sklearn.preprocessing import MinMaxScaler, OneHotEncoder\n",
        "\n"
      ],
      "metadata": {
        "id": "h2BqVQDJ3w8r"
      },
      "execution_count": null,
      "outputs": []
    },
    {
      "cell_type": "code",
      "source": [
        "df = pd.read_csv('https://raw.githubusercontent.com/jupiterzhuo/travel-insurance/master/travel%20insurance.csv')\n",
        "df.dropna(inplace=True)\n",
        "cat_features_mask = (df.dtypes == \"object\").values\n",
        "print(cat_features_mask)"
      ],
      "metadata": {
        "colab": {
          "base_uri": "https://localhost:8080/"
        },
        "id": "RSk8_5v49w0D",
        "outputId": "c75cdf63-d420-46f3-d24f-a03f4a78105c"
      },
      "execution_count": null,
      "outputs": [
        {
          "output_type": "stream",
          "name": "stdout",
          "text": [
            "[ True  True  True  True  True False  True False False  True False]\n"
          ]
        }
      ]
    },
    {
      "cell_type": "code",
      "source": [
        "features = df[['Duration', 'Net Sales', 'Commision (in value)', 'Age']]\n",
        "\n",
        "scaler = OneHotEncoder()\n",
        "scaler.fit(features)\n",
        "print(scaler.transform(features))\n"
      ],
      "metadata": {
        "colab": {
          "base_uri": "https://localhost:8080/"
        },
        "id": "k9Kf2_kg9z7b",
        "outputId": "fe0cb76b-528a-474e-f66c-a45034cc735c"
      },
      "execution_count": null,
      "outputs": [
        {
          "output_type": "stream",
          "name": "stdout",
          "text": [
            "  (0, 187)\t1.0\n",
            "  (0, 418)\t1.0\n",
            "  (0, 1366)\t1.0\n",
            "  (0, 2048)\t1.0\n",
            "  (1, 187)\t1.0\n",
            "  (1, 418)\t1.0\n",
            "  (1, 1366)\t1.0\n",
            "  (1, 2038)\t1.0\n",
            "  (2, 67)\t1.0\n",
            "  (2, 385)\t1.0\n",
            "  (2, 1764)\t1.0\n",
            "  (2, 2011)\t1.0\n",
            "  (3, 2)\t1.0\n",
            "  (3, 429)\t1.0\n",
            "  (3, 1283)\t1.0\n",
            "  (3, 2014)\t1.0\n",
            "  (4, 54)\t1.0\n",
            "  (4, 383)\t1.0\n",
            "  (4, 1789)\t1.0\n",
            "  (4, 2015)\t1.0\n",
            "  (5, 4)\t1.0\n",
            "  (5, 429)\t1.0\n",
            "  (5, 1283)\t1.0\n",
            "  (5, 2014)\t1.0\n",
            "  (6, 13)\t1.0\n",
            "  :\t:\n",
            "  (18212, 2018)\t1.0\n",
            "  (18213, 6)\t1.0\n",
            "  (18213, 554)\t1.0\n",
            "  (18213, 1283)\t1.0\n",
            "  (18213, 1994)\t1.0\n",
            "  (18214, 112)\t1.0\n",
            "  (18214, 668)\t1.0\n",
            "  (18214, 1417)\t1.0\n",
            "  (18214, 1998)\t1.0\n",
            "  (18215, 59)\t1.0\n",
            "  (18215, 694)\t1.0\n",
            "  (18215, 1453)\t1.0\n",
            "  (18215, 2007)\t1.0\n",
            "  (18216, 3)\t1.0\n",
            "  (18216, 554)\t1.0\n",
            "  (18216, 1283)\t1.0\n",
            "  (18216, 2024)\t1.0\n",
            "  (18217, 4)\t1.0\n",
            "  (18217, 554)\t1.0\n",
            "  (18217, 1283)\t1.0\n",
            "  (18217, 2030)\t1.0\n",
            "  (18218, 23)\t1.0\n",
            "  (18218, 614)\t1.0\n",
            "  (18218, 1357)\t1.0\n",
            "  (18218, 2002)\t1.0\n"
          ]
        }
      ]
    },
    {
      "cell_type": "code",
      "source": [
        "#data = df['Duration', \"Net Sales\", \"Commission (in value)\", \"Age\"]#\n",
        "features = df[['Duration', 'Net Sales', 'Commision (in value)', 'Age']]\n",
        "\n",
        "scaler = MinMaxScaler()\n",
        "scaler.fit(features)\n",
        "print(scaler.transform(features))\n"
      ],
      "metadata": {
        "colab": {
          "base_uri": "https://localhost:8080/"
        },
        "id": "ofb0RDx292FT",
        "outputId": "09007753-c5df-4338-f291-429465565a75"
      },
      "execution_count": null,
      "outputs": [
        {
          "output_type": "stream",
          "name": "stdout",
          "text": [
            "[[0.25336927 0.30025021 0.03375661 0.68644068]\n",
            " [0.25336927 0.30025021 0.03375661 0.60169492]\n",
            " [0.0916442  0.2235196  0.14938272 0.37288136]\n",
            " ...\n",
            " [0.00539084 0.33944954 0.02222222 0.48305085]\n",
            " [0.00673854 0.33944954 0.02222222 0.53389831]\n",
            " [0.03234501 0.34612177 0.03209877 0.29661017]]\n"
          ]
        }
      ]
    },
    {
      "cell_type": "markdown",
      "source": [
        "Подробный анализ и подготовка датасета часто помогают улучшить качество модели. Ниже представлено несколько идей преобразований. Вы можете применить одно или несколько из этих преобразований (а можете не применять), чтобы помочь будущей модели.\n",
        "\n",
        "1. Посмотрите на количественные признаки. Возможно, в некоторых признаках есть выбросы - значения, которые сильно выбиваются. Такие значения полезно удалять. Советуем присмотреться к колонке Duration)\n",
        "\n",
        "2. Можно заметить, что one hot encoding сильно раздувает количество столбцов. Радикальное решение - можно попробовать выбросить все категориальные признаки из датасета.\n",
        "\n",
        "3. Если все-таки оставляете категориальные признаки, то подумайте, как уменьшить количество столбцов после one hot encoding. Признаки с большим количеством значений (Duration - 149! разных стран) можно удалить или попробовать сгруппировать некоторые значения.\n",
        "\n",
        "4. Downsampling. Датасет достаточно большой, разница в классах огромная. Можно уменьшить число наблюдений с частым ответом.\n",
        "\n",
        "Кодовая ячейка <undefined>"
      ],
      "metadata": {
        "id": "QZRZkiUD4Rno"
      }
    },
    {
      "cell_type": "code",
      "source": [
        "arr = np.array(df[['Duration']])\n",
        "print(sum(arr) / len(arr))\n",
        "# минимальное число -2, максимальное 720\n",
        "# среднее значение 68, поэтому мы впосле можем выкинуть числа большие 200\n",
        "df = df[df['Duration'] <= 200 ]\n",
        "# убираем категориальные признаки\n",
        "#df.drop(['Agency', 'Agency Type', 'Distribution Channel', 'Product Name', 'Destination', 'Gender'], axis= 1 , inplace= True )\n",
        "# чистим повторяющиеся записи\n",
        "df.drop_duplicates ()\n",
        "print(df)"
      ],
      "metadata": {
        "colab": {
          "base_uri": "https://localhost:8080/"
        },
        "id": "E_o499r-4TzJ",
        "outputId": "1dfdde69-1065-4de9-da84-92da86ef8929"
      },
      "execution_count": null,
      "outputs": [
        {
          "output_type": "stream",
          "name": "stdout",
          "text": [
            "[29.91931783]\n",
            "      Claim  Duration  Net Sales  Commision (in value)  Age\n",
            "0        No       186      -29.0                  9.57   81\n",
            "1        No       186      -29.0                  9.57   71\n",
            "5        No        66     -121.0                 42.35   44\n",
            "11       No         1      -18.0                  6.30   47\n",
            "12       No        53     -130.0                 49.40   48\n",
            "...     ...       ...        ...                   ...  ...\n",
            "63321    No       111       35.0                 12.25   31\n",
            "63322    No        58       40.0                 14.00   40\n",
            "63323    No         2       18.0                  6.30   57\n",
            "63324    No         3       18.0                  6.30   63\n",
            "63325    No        22       26.0                  9.10   35\n",
            "\n",
            "[16125 rows x 5 columns]\n"
          ]
        }
      ]
    },
    {
      "cell_type": "code",
      "source": [
        "def accuracy(true_labels, pred_labels):\n",
        "    return np.sum(true_labels == pred_labels) / len(true_labels)\n",
        "\n",
        "\n",
        "labels = df['Claim']\n",
        "features = df[['Duration', 'Net Sales', 'Commision (in value)', 'Age']]\n",
        "train_features, test_features, train_labels, test_labels = train_test_split(\n",
        "    features, labels, test_size=0.2, random_state=123)\n",
        "\n",
        "min = 1\n",
        "max = 0\n",
        "for n in range(1, 11):\n",
        "    for weight in ['uniform', 'distance']:\n",
        "        knn = KNeighborsClassifier(n_neighbors=n, weights=weight)\n",
        "        knn.fit(train_features, train_labels)\n",
        "        labels_predicted = knn.predict(test_features)\n",
        "        if accuracy(test_labels, labels_predicted) > max:\n",
        "            max = accuracy(test_labels, labels_predicted)\n",
        "        if accuracy(test_labels, labels_predicted) < min:\n",
        "            min = accuracy(test_labels, labels_predicted)\n",
        "\n",
        "print('Best accuracy: {:.6f}'.format(max))\n",
        "print('Worst accuracy: {:.6f}'.format(min))"
      ],
      "metadata": {
        "colab": {
          "base_uri": "https://localhost:8080/"
        },
        "id": "aT3jGx6STUso",
        "outputId": "19d41eaf-ae49-47c3-82a0-fcbece458a87"
      },
      "execution_count": null,
      "outputs": [
        {
          "output_type": "stream",
          "name": "stdout",
          "text": [
            "Best accuracy: 0.973023\n",
            "Worst accuracy: 0.955039\n"
          ]
        }
      ]
    },
    {
      "cell_type": "markdown",
      "source": [
        "применение линейной регрессии (10 баллов)\n",
        "\n",
        "Текстовая ячейка <undefined>\n",
        "# %% [markdown]\n",
        "Это задача классификации, но её можно решить с помощью линейной регрессии, если округлять предсказанный ответ до целого и выбирать ближайший по значению ответ из множества {0, 1}.\n",
        "\n",
        "Вынесите признак 'Claim' в вектор ответов и разделите датасет на обучающую и тестовую выборку в соотношении 80 к 20. Зафиксируйте random_state.\n",
        "\n",
        "**Подсказка:** быстро перевести Yes/No в 1/0 можно так - np.where(df['Claim'] == 'Yes', 1,0)"
      ],
      "metadata": {
        "id": "yXMWcq4A4dHq"
      }
    },
    {
      "cell_type": "code",
      "source": [
        "labels = df['Claim']\n",
        "labels = np.where(df['Claim'] == 'Yes', 1,0)\n",
        "features = df[['Duration', 'Net Sales', 'Commision (in value)', 'Age']]\n",
        "train_features, test_features, train_labels, test_labels = train_test_split(\n",
        "    features, labels, test_size=0.2, random_state=123)"
      ],
      "metadata": {
        "id": "G7JTVsbi4fhx"
      },
      "execution_count": 142,
      "outputs": []
    },
    {
      "cell_type": "markdown",
      "source": [
        "Найдите аналитическое решение для обучающей выборки: обычное и регуляризацией l2."
      ],
      "metadata": {
        "id": "j0T6Gf-y4mDo"
      }
    },
    {
      "cell_type": "code",
      "source": [
        "from sklearn.linear_model import LinearRegression\n",
        "from sklearn.linear_model import LogisticRegression\n",
        "log_regression = LinearRegression()\n",
        "\n",
        "x_train, x_test, y_train, y_test = train_features, test_features, train_labels, test_labels\n",
        "#fit the model using the training data\n",
        "log_regression. fit (x_train, y_train)\n",
        "\n",
        "#use model to make predictions on test data\n",
        "y_pred = log_regression. predict (x_test)\n",
        "print(y_pred)"
      ],
      "metadata": {
        "colab": {
          "base_uri": "https://localhost:8080/"
        },
        "id": "JI76J15G4nIg",
        "outputId": "07c321c8-8f5a-43bb-b60a-1dfd236f2064"
      },
      "execution_count": 145,
      "outputs": [
        {
          "output_type": "stream",
          "name": "stdout",
          "text": [
            "[0.03535459 0.00800532 0.04319644 ... 0.0283118  0.02324265 0.0378207 ]\n"
          ]
        }
      ]
    },
    {
      "cell_type": "code",
      "source": [],
      "metadata": {
        "id": "E82hnjKj4sPA"
      },
      "execution_count": null,
      "outputs": []
    },
    {
      "cell_type": "markdown",
      "source": [
        "Постройте модель LinearRegression, примените к тестовой выборке и посчитайте MSE (можно использовать библиотеку sklearn)"
      ],
      "metadata": {
        "id": "Z9Y2JPt54xQo"
      }
    },
    {
      "cell_type": "markdown",
      "source": [],
      "metadata": {
        "id": "t2eoRc2_4zyp"
      }
    },
    {
      "cell_type": "code",
      "source": [],
      "metadata": {
        "id": "2gZvxxdI49y4"
      },
      "execution_count": null,
      "outputs": []
    },
    {
      "cell_type": "code",
      "source": [],
      "metadata": {
        "id": "x8czsiJJ4-3g"
      },
      "execution_count": null,
      "outputs": []
    },
    {
      "cell_type": "markdown",
      "source": [
        "вывод (1 балла)\n",
        "\n",
        "Текстовая ячейка <undefined>\n",
        "# %% [markdown]\n",
        "Напишите краткий вывод по заданию (достаточно пары предложений). Расскажите, какие способы предобработки данных вы выбрали и почему. Насколько хороша ваша модель?\n",
        "\n",
        "\n"
      ],
      "metadata": {
        "id": "tYwJ_oq6426Z"
      }
    }
  ]
}